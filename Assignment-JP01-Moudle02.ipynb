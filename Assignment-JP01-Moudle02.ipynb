{
 "cells": [
  {
   "cell_type": "code",
   "execution_count": 1,
   "id": "dc7ee508-cc06-44e3-9756-1b84252571c5",
   "metadata": {},
   "outputs": [
    {
     "name": "stdout",
     "output_type": "stream",
     "text": [
      "Grade B\n"
     ]
    }
   ],
   "source": [
    "#Assignment - 1 - Module- 02\n",
    "\n",
    "\n",
    "#Question 2 - Describe the Role of predefined keywords in Python and provide examples of how they are used in a program.\n",
    "#Example 2.1\n",
    "#if, elif, else: Used for conditional statements.\n",
    "\n",
    "\n",
    "score = 85\n",
    "\n",
    "if score >= 90:\n",
    "    print(\"Grade A\")\n",
    "elif 75 <= score < 90:\n",
    "    print(\"Grade B\")\n",
    "elif 70 <= score < 75:\n",
    "    print(\"Grade C\")\n",
    "else:\n",
    "    print(\"Grade D\")"
   ]
  },
  {
   "cell_type": "code",
   "execution_count": 2,
   "id": "ebd7f285-355e-445c-98c5-533ed16b8393",
   "metadata": {},
   "outputs": [
    {
     "name": "stdout",
     "output_type": "stream",
     "text": [
      "1\n",
      "2\n",
      "3\n"
     ]
    }
   ],
   "source": [
    "#Example 2.2 : While loop\n",
    "\n",
    "i = 1\n",
    "n = 4\n",
    "while i < n:\n",
    "    print(i)\n",
    "    i += 1"
   ]
  },
  {
   "cell_type": "code",
   "execution_count": 3,
   "id": "8f7fd775-0e89-41f5-88b0-d3fbe98d75ee",
   "metadata": {},
   "outputs": [
    {
     "name": "stdout",
     "output_type": "stream",
     "text": [
      "*\n",
      "**\n",
      "***\n",
      "****\n"
     ]
    }
   ],
   "source": [
    "#Example 2.3 : for loop\n",
    "          \n",
    "for i in range(4):\n",
    "  for j in range(i+1):\n",
    "    print(\"*\", end= \"\")\n",
    "  print()\n"
   ]
  },
  {
   "cell_type": "code",
   "execution_count": 4,
   "id": "b4497bc5-d727-47dd-b356-ca2e320557d6",
   "metadata": {},
   "outputs": [
    {
     "name": "stdout",
     "output_type": "stream",
     "text": [
      "The value is active\n",
      "No value assigned\n"
     ]
    }
   ],
   "source": [
    "#Example 2.4 : Boolean values and the absence of a value\n",
    "\n",
    "is_active = True\n",
    "is_inactive = False\n",
    "value = None\n",
    "\n",
    "if is_active:\n",
    "    print(\"The value is active\")\n",
    "if value is None:\n",
    "    print(\"No value assigned\")\n",
    "    "
   ]
  },
  {
   "cell_type": "code",
   "execution_count": 5,
   "id": "a0e5a3a1-65ca-4061-9f37-2b73a6565589",
   "metadata": {},
   "outputs": [
    {
     "name": "stdout",
     "output_type": "stream",
     "text": [
      "Original List: [1, 2, 3]\n"
     ]
    }
   ],
   "source": [
    "#Question 3 : Compare and contrast table mutable and immutable objects in Python with examples?\n",
    "\n",
    "#Example 3.1 - Mutable list\n",
    "\n",
    "my_list = [1, 2, 3]\n",
    "print(\"Original List:\", my_list)"
   ]
  },
  {
   "cell_type": "code",
   "execution_count": 6,
   "id": "d92ea20c-443b-4ad1-9be8-19a1dd8926e2",
   "metadata": {},
   "outputs": [
    {
     "name": "stdout",
     "output_type": "stream",
     "text": [
      "Modified List: [1, 2, 3, 4]\n"
     ]
    }
   ],
   "source": [
    "my_list.append(4)\n",
    "print(\"Modified List:\", my_list)"
   ]
  },
  {
   "cell_type": "code",
   "execution_count": 7,
   "id": "f4cd3deb-0321-4638-9c98-182d81a407c3",
   "metadata": {},
   "outputs": [
    {
     "name": "stdout",
     "output_type": "stream",
     "text": [
      "Original String: Hello\n"
     ]
    }
   ],
   "source": [
    "#Immutable Object Example (String):\n",
    "my_string = \"Hello\"\n",
    "print(\"Original String:\", my_string)"
   ]
  },
  {
   "cell_type": "code",
   "execution_count": 8,
   "id": "e42611d7-6dc0-43b1-8bcc-0da0b656697d",
   "metadata": {},
   "outputs": [
    {
     "name": "stdout",
     "output_type": "stream",
     "text": [
      "Error: 'str' object does not support item assignment\n"
     ]
    }
   ],
   "source": [
    "# modifying the string\n",
    "try:\n",
    "    my_string[0] = 'h'\n",
    "except TypeError as e:\n",
    "    print(\"Error:\", e)"
   ]
  },
  {
   "cell_type": "code",
   "execution_count": 10,
   "id": "934b0267-0743-483b-8c2f-bb5eaead8271",
   "metadata": {},
   "outputs": [
    {
     "name": "stdout",
     "output_type": "stream",
     "text": [
      "11\n"
     ]
    }
   ],
   "source": [
    "# Question 4. Discuss the different types of operators in Python and provide examples of how they are used\n",
    "#4.1. Arithmetic Operators\n",
    "\n",
    "#Addition (+)\n",
    "a = 6\n",
    "b = 5\n",
    "print(a + b) "
   ]
  },
  {
   "cell_type": "code",
   "execution_count": 11,
   "id": "c82c260a-5cec-479d-ac2c-470aeb1a0e73",
   "metadata": {},
   "outputs": [
    {
     "name": "stdout",
     "output_type": "stream",
     "text": [
      "1\n"
     ]
    }
   ],
   "source": [
    "#Subtraction (-)\n",
    "print(a - b) "
   ]
  },
  {
   "cell_type": "code",
   "execution_count": 12,
   "id": "7c275fdc-75c5-471d-b7ec-2715639281a0",
   "metadata": {},
   "outputs": [
    {
     "name": "stdout",
     "output_type": "stream",
     "text": [
      "30\n"
     ]
    }
   ],
   "source": [
    "#Multiplication (*): \n",
    "print(a * b)  "
   ]
  },
  {
   "cell_type": "code",
   "execution_count": 13,
   "id": "106fde4e-509a-4894-bfd5-2bbc4c810f48",
   "metadata": {},
   "outputs": [
    {
     "name": "stdout",
     "output_type": "stream",
     "text": [
      "1.2\n"
     ]
    }
   ],
   "source": [
    "#Division (/):\n",
    "print(a / b)  "
   ]
  },
  {
   "cell_type": "code",
   "execution_count": 17,
   "id": "8cf8db98-ff9c-4271-b970-f723ae82d95d",
   "metadata": {},
   "outputs": [
    {
     "name": "stdout",
     "output_type": "stream",
     "text": [
      "False\n"
     ]
    }
   ],
   "source": [
    "#4.2. Comparison Operators  \n",
    "\n",
    "#Equal to (==):  Determines if two operands are identical\n",
    "print(a == b)  "
   ]
  },
  {
   "cell_type": "code",
   "execution_count": 18,
   "id": "e6092fb3-9273-4270-a391-b450501f83e0",
   "metadata": {},
   "outputs": [
    {
     "name": "stdout",
     "output_type": "stream",
     "text": [
      "True\n"
     ]
    }
   ],
   "source": [
    "#Greater than (>): #Checks if the first operand is larger than the second.\n",
    "print(a > b)  "
   ]
  },
  {
   "cell_type": "code",
   "execution_count": 19,
   "id": "6330c1f7-d1ea-4cf5-acae-1a707db20c34",
   "metadata": {},
   "outputs": [
    {
     "name": "stdout",
     "output_type": "stream",
     "text": [
      "False\n"
     ]
    }
   ],
   "source": [
    "#Less than (<): #Checks if the first operand is smaller than the second.\n",
    "print(a < b) "
   ]
  },
  {
   "cell_type": "code",
   "execution_count": 23,
   "id": "9a0ff83a-99d0-440d-94aa-79f483a8fbd8",
   "metadata": {},
   "outputs": [
    {
     "name": "stdout",
     "output_type": "stream",
     "text": [
      "False\n"
     ]
    }
   ],
   "source": [
    "#4.3. Logical Operators\n",
    "#Logical AND (and): #This operator returns True only if both conditions are true\n",
    "\n",
    "x = True\n",
    "y = False\n",
    "print(x and y) "
   ]
  },
  {
   "cell_type": "code",
   "execution_count": 24,
   "id": "de64e6b3-bea1-4d1a-8347-4b148f66aea9",
   "metadata": {},
   "outputs": [
    {
     "name": "stdout",
     "output_type": "stream",
     "text": [
      "True\n"
     ]
    }
   ],
   "source": [
    "#Logical OR (or): #This operator returns True if at least one of the conditions is true\n",
    "\n",
    "print(x or y) "
   ]
  },
  {
   "cell_type": "code",
   "execution_count": 25,
   "id": "68499eaa-22f8-432e-b2d3-3e2afdb16f6f",
   "metadata": {},
   "outputs": [
    {
     "name": "stdout",
     "output_type": "stream",
     "text": [
      "False\n"
     ]
    }
   ],
   "source": [
    "#Logical NOT (not): #This operator inverts the logical state of its operand.\n",
    "\n",
    "print(not x)  "
   ]
  },
  {
   "cell_type": "code",
   "execution_count": 30,
   "id": "b8a36af6-0898-4150-b980-5cd860b02bad",
   "metadata": {},
   "outputs": [
    {
     "name": "stdout",
     "output_type": "stream",
     "text": [
      "15\n"
     ]
    }
   ],
   "source": [
    "#4.4.Assignment Operators\n",
    "\n",
    "#Basic Assignment (=): \n",
    "#Add and Assign (+ =): \n",
    "c = 10\n",
    "c += 5\n",
    "print(c)"
   ]
  },
  {
   "cell_type": "code",
   "execution_count": 31,
   "id": "8966c3e0-d18e-4e24-a2ea-6d0cef8b6ed0",
   "metadata": {},
   "outputs": [
    {
     "name": "stdout",
     "output_type": "stream",
     "text": [
      "12\n"
     ]
    }
   ],
   "source": [
    "#Subtract and Assign (-=): \n",
    "c -= 3  \n",
    "print (c) "
   ]
  },
  {
   "cell_type": "code",
   "execution_count": 32,
   "id": "b09eb574-7dd8-46b0-984a-f7e10756b365",
   "metadata": {},
   "outputs": [
    {
     "name": "stdout",
     "output_type": "stream",
     "text": [
      "24\n"
     ]
    }
   ],
   "source": [
    "#Multiply and Assign (*=):\n",
    "\n",
    "c *= 2  \n",
    "print(c)\n"
   ]
  },
  {
   "cell_type": "code",
   "execution_count": 33,
   "id": "89e40b05-d45f-4c2e-b35d-c0e08f3bf7e7",
   "metadata": {},
   "outputs": [
    {
     "name": "stdout",
     "output_type": "stream",
     "text": [
      "6.0\n"
     ]
    }
   ],
   "source": [
    "#Divide and Assign (/=): \n",
    "\n",
    "c /= 4 \n",
    "print(c)"
   ]
  },
  {
   "cell_type": "code",
   "execution_count": 34,
   "id": "14d94841-a8be-440b-ac72-055e24dc06f7",
   "metadata": {},
   "outputs": [
    {
     "name": "stdout",
     "output_type": "stream",
     "text": [
      "1\n"
     ]
    }
   ],
   "source": [
    "#4.5. Bitwise Operators\n",
    "\n",
    "#AND (&): #This operator performs a bitwise AND operation.\n",
    "\n",
    "d = 5  # Binary: 101\n",
    "e = 3  # Binary: 011\n",
    "print(d & e)  "
   ]
  },
  {
   "cell_type": "code",
   "execution_count": 35,
   "id": "2e0dcbf9-a124-4e4f-98f5-94b1c5ae5fb9",
   "metadata": {},
   "outputs": [
    {
     "name": "stdout",
     "output_type": "stream",
     "text": [
      "7\n"
     ]
    }
   ],
   "source": [
    "#OR (|): #This operator performs a bitwise OR operation.\n",
    "\n",
    "print(d | e)  "
   ]
  },
  {
   "cell_type": "code",
   "execution_count": 36,
   "id": "0b9ee8fa-df9c-463a-a487-3c694125b95f",
   "metadata": {},
   "outputs": [
    {
     "name": "stdout",
     "output_type": "stream",
     "text": [
      "6\n"
     ]
    }
   ],
   "source": [
    "#XOR (^): #This operator performs a bitwise XOR operation.\n",
    "\n",
    "print(d ^ e)  "
   ]
  },
  {
   "cell_type": "code",
   "execution_count": 37,
   "id": "34a67054-152a-437d-8fa1-b817ac44eaa9",
   "metadata": {},
   "outputs": [
    {
     "name": "stdout",
     "output_type": "stream",
     "text": [
      "-6\n"
     ]
    }
   ],
   "source": [
    "#NOT (~): #This operator performs a bitwise NOT operation.\n",
    "\n",
    "print(~d)  "
   ]
  },
  {
   "cell_type": "code",
   "execution_count": 38,
   "id": "40e1fcbc-533c-4d78-97e7-e77cb62a45e2",
   "metadata": {},
   "outputs": [
    {
     "name": "stdout",
     "output_type": "stream",
     "text": [
      "True\n"
     ]
    }
   ],
   "source": [
    "#4.6 Membership Operators\n",
    "\n",
    "#In (in): #Returns True if a value is found in the sequence\n",
    "\n",
    "f = [1, 2, 3, 4]\n",
    "print(3 in f)  "
   ]
  },
  {
   "cell_type": "code",
   "execution_count": 40,
   "id": "810de0d9-2219-44d2-b857-1d3a8308bb75",
   "metadata": {},
   "outputs": [
    {
     "name": "stdout",
     "output_type": "stream",
     "text": [
      "True\n"
     ]
    }
   ],
   "source": [
    "#Not In (not in): #Returns True if a value is not found in the sequence\n",
    "\n",
    "print(5 not in f)  \n"
   ]
  },
  {
   "cell_type": "code",
   "execution_count": 42,
   "id": "c22b38e8-12f5-4cbf-9f35-8e3f7e10deb5",
   "metadata": {},
   "outputs": [
    {
     "name": "stdout",
     "output_type": "stream",
     "text": [
      "True\n"
     ]
    }
   ],
   "source": [
    "#4.7. Identity Operators\n",
    "\n",
    "#Is (is): #Returns True if both operands refer to the same object.\n",
    "\n",
    "g = [1, 2, 3]\n",
    "h = g\n",
    "print(g is h) "
   ]
  },
  {
   "cell_type": "code",
   "execution_count": 43,
   "id": "41a0cca2-3cb6-4f54-bf38-26898763f87e",
   "metadata": {},
   "outputs": [
    {
     "name": "stdout",
     "output_type": "stream",
     "text": [
      "True\n"
     ]
    }
   ],
   "source": [
    "#Is Not (is not): #Returns True if both operands refer to different objects.\n",
    "\n",
    "i = [1, 2, 3]\n",
    "print(g is not i)"
   ]
  },
  {
   "cell_type": "code",
   "execution_count": 44,
   "id": "2f32d30f-20ef-47de-9ca3-71e1fd5791c7",
   "metadata": {},
   "outputs": [
    {
     "name": "stdout",
     "output_type": "stream",
     "text": [
      "5\n"
     ]
    }
   ],
   "source": [
    "#4.8. Special Operators\n",
    "#Ternary Operator: Conditional expressions\n",
    "\n",
    "j = 10\n",
    "k = 5\n",
    "smaller = j if j < k else k\n",
    "print(smaller)  "
   ]
  },
  {
   "cell_type": "code",
   "execution_count": 46,
   "id": "2cee6919-5e5d-4c2a-98c8-c0752d0a6748",
   "metadata": {},
   "outputs": [
    {
     "name": "stdout",
     "output_type": "stream",
     "text": [
      "<class 'int'>\n"
     ]
    }
   ],
   "source": [
    "#Question 5. Explain the concept of type casting in Python with examples\n",
    "\n",
    "#5.1 Implicit Type Casting\n",
    "\n",
    "#Example 5.1.1:\n",
    "\n",
    "a = 7\n",
    "print(type(a)) "
   ]
  },
  {
   "cell_type": "code",
   "execution_count": 47,
   "id": "5e40f098-2a2c-4d4e-ac80-f2332b6358d9",
   "metadata": {},
   "outputs": [
    {
     "name": "stdout",
     "output_type": "stream",
     "text": [
      "<class 'float'>\n"
     ]
    }
   ],
   "source": [
    "#Example 5.1.2:\n",
    "\n",
    "b = 3.0\n",
    "print(type(b))  "
   ]
  },
  {
   "cell_type": "code",
   "execution_count": 49,
   "id": "bb9b3488-6b92-4b06-93b3-9bec3c162dc5",
   "metadata": {},
   "outputs": [
    {
     "name": "stdout",
     "output_type": "stream",
     "text": [
      "10.0\n"
     ]
    }
   ],
   "source": [
    "#Example 5.1.3:\n",
    "\n",
    "c = a + b\n",
    "print(c)        \n"
   ]
  },
  {
   "cell_type": "code",
   "execution_count": 50,
   "id": "e34d24f1-cc34-4cf0-af74-cf353de4fc8b",
   "metadata": {},
   "outputs": [
    {
     "name": "stdout",
     "output_type": "stream",
     "text": [
      "<class 'float'>\n"
     ]
    }
   ],
   "source": [
    "print(type(c))  # the integer a is automatically converted to a float when added to b, resulting in a float c."
   ]
  },
  {
   "cell_type": "code",
   "execution_count": 51,
   "id": "2fe7bd35-9ea2-46da-8759-24eac1500f2e",
   "metadata": {},
   "outputs": [
    {
     "name": "stdout",
     "output_type": "stream",
     "text": [
      "5.0\n"
     ]
    }
   ],
   "source": [
    "#5.2 Explicit Type Casting\n",
    "\n",
    "#Example 5.2.1: Converting an integer to a float \n",
    "\n",
    "a = 5\n",
    "n = float(a)\n",
    "print(n) "
   ]
  },
  {
   "cell_type": "code",
   "execution_count": 52,
   "id": "e10a24cd-ca28-4023-b536-d83626ecf167",
   "metadata": {},
   "outputs": [
    {
     "name": "stdout",
     "output_type": "stream",
     "text": [
      "<class 'float'>\n"
     ]
    }
   ],
   "source": [
    "print(type(n)) "
   ]
  },
  {
   "cell_type": "code",
   "execution_count": 53,
   "id": "52a45987-02f8-4097-bc76-1bfaf9a9ae30",
   "metadata": {},
   "outputs": [
    {
     "name": "stdout",
     "output_type": "stream",
     "text": [
      "5\n"
     ]
    }
   ],
   "source": [
    "#Example 5.2.2: Converting a float to an integer  \n",
    "\n",
    "a = 5.9\n",
    "n = int(a)\n",
    "print(n) "
   ]
  },
  {
   "cell_type": "code",
   "execution_count": 54,
   "id": "9a280480-f01e-413c-998f-7fdba986430d",
   "metadata": {},
   "outputs": [
    {
     "name": "stdout",
     "output_type": "stream",
     "text": [
      "<class 'int'>\n"
     ]
    }
   ],
   "source": [
    "print(type(n)) "
   ]
  },
  {
   "cell_type": "code",
   "execution_count": 55,
   "id": "68e20b35-2770-4cbb-aa0b-0a65f7f88187",
   "metadata": {},
   "outputs": [
    {
     "name": "stdout",
     "output_type": "stream",
     "text": [
      "5\n"
     ]
    }
   ],
   "source": [
    "#Example 5.2.3: Converting an integer to a string\n",
    "\n",
    "a = 5\n",
    "n = str(a)\n",
    "print(n)   "
   ]
  },
  {
   "cell_type": "code",
   "execution_count": 56,
   "id": "43d6cc38-c5fe-4069-a4ff-032b666167e8",
   "metadata": {},
   "outputs": [
    {
     "name": "stdout",
     "output_type": "stream",
     "text": [
      "<class 'str'>\n"
     ]
    }
   ],
   "source": [
    "print(type(n))  "
   ]
  },
  {
   "cell_type": "code",
   "execution_count": 57,
   "id": "678b1b29-3d62-459f-9038-925ebbc94cd9",
   "metadata": {},
   "outputs": [
    {
     "name": "stdout",
     "output_type": "stream",
     "text": [
      "5.9\n"
     ]
    }
   ],
   "source": [
    "#Example 5.2.4: Converting a string to a float\n",
    "\n",
    "a = \"5.9\"\n",
    "n = float(a)\n",
    "print(n)   "
   ]
  },
  {
   "cell_type": "code",
   "execution_count": 58,
   "id": "9741ec3c-947f-4939-911e-b2549627a8fe",
   "metadata": {},
   "outputs": [
    {
     "name": "stdout",
     "output_type": "stream",
     "text": [
      "<class 'float'>\n"
     ]
    }
   ],
   "source": [
    "print(type(n))"
   ]
  },
  {
   "cell_type": "code",
   "execution_count": 59,
   "id": "03bc41c9-3858-45d2-8858-73e1cbe7fbbd",
   "metadata": {},
   "outputs": [
    {
     "name": "stdout",
     "output_type": "stream",
     "text": [
      "5\n"
     ]
    }
   ],
   "source": [
    "#Example 5.2.5: Converting a string to an integer:\n",
    "\n",
    "a = \"5\"\n",
    "n = int(a)\n",
    "print(n)"
   ]
  },
  {
   "cell_type": "code",
   "execution_count": 60,
   "id": "e5a5e7d2-555e-4485-abbe-355a2fdc5f05",
   "metadata": {},
   "outputs": [
    {
     "name": "stdout",
     "output_type": "stream",
     "text": [
      "<class 'int'>\n"
     ]
    }
   ],
   "source": [
    "print(type(n))  "
   ]
  },
  {
   "cell_type": "code",
   "execution_count": 61,
   "id": "27dada75-88b6-4c96-a683-7169a09feba4",
   "metadata": {},
   "outputs": [
    {
     "name": "stdout",
     "output_type": "stream",
     "text": [
      "x is greater than 5\n"
     ]
    }
   ],
   "source": [
    "#Question 6. How do conditional statements work in Python? Illustrate with examples?\n",
    "\n",
    "#Example 6.1 - if Statement\n",
    "x = 10\n",
    "if x > 5:\n",
    "    print(\"x is greater than 5\")\n"
   ]
  },
  {
   "cell_type": "code",
   "execution_count": 62,
   "id": "16f0ca5e-90cf-4dc6-8529-fa55c1f2e523",
   "metadata": {},
   "outputs": [
    {
     "name": "stdout",
     "output_type": "stream",
     "text": [
      "x is not greater than 5\n"
     ]
    }
   ],
   "source": [
    "#Example 6.2 - if-else Statement\n",
    "x = 3\n",
    "if x > 5:\n",
    "    print(\"x is greater than 5\")\n",
    "else:\n",
    "    print(\"x is not greater than 5\")"
   ]
  },
  {
   "cell_type": "code",
   "execution_count": 63,
   "id": "e10ba261-72be-4f84-857a-b95f5adf32da",
   "metadata": {},
   "outputs": [
    {
     "name": "stdout",
     "output_type": "stream",
     "text": [
      "x is equal to 7\n"
     ]
    }
   ],
   "source": [
    "#Example 6.3 - if-elif-else Statement\n",
    "x = 7\n",
    "if x > 10:\n",
    "    print(\"x is greater than 10\")\n",
    "elif x == 7:\n",
    "    print(\"x is equal to 7\")\n",
    "else:\n",
    "    print(\"x is less than 10 and not equal to 7\")"
   ]
  },
  {
   "cell_type": "code",
   "execution_count": 64,
   "id": "1a364f6d-f537-498a-ad51-7ed8e5b9aa4a",
   "metadata": {},
   "outputs": [
    {
     "name": "stdout",
     "output_type": "stream",
     "text": [
      "x is between 10 and 20\n"
     ]
    }
   ],
   "source": [
    "#Example 6.4 - Nested if Statements\n",
    "x = 15\n",
    "if x > 10:\n",
    "    if x < 20:\n",
    "        print(\"x is between 10 and 20\")\n",
    "    else:\n",
    "        print(\"x is 20 or more\")\n",
    "else:\n",
    "    print(\"x is 10 or less\")"
   ]
  },
  {
   "cell_type": "code",
   "execution_count": 65,
   "id": "95f9705e-a65f-4d52-95a2-24b7b582cb63",
   "metadata": {},
   "outputs": [
    {
     "name": "stdout",
     "output_type": "stream",
     "text": [
      "x is odd\n"
     ]
    }
   ],
   "source": [
    "#Example 6.5 -  Ternary Conditional Operator\n",
    "x = 5\n",
    "result = \"x is even\" if x % 2 == 0 else \"x is odd\"\n",
    "print(result)"
   ]
  },
  {
   "cell_type": "code",
   "execution_count": 69,
   "id": "dab45abc-d297-42e7-a01b-77d17cdf74ef",
   "metadata": {},
   "outputs": [
    {
     "name": "stdout",
     "output_type": "stream",
     "text": [
      "Object `examples` not found.\n",
      "Sachin\n",
      "Virat\n",
      "Rohit\n"
     ]
    }
   ],
   "source": [
    "Question 7. Describe the different types of loops in Python and their$ use cases with examples?\n",
    "\n",
    "#Example 7.1.1 -  for Loop\n",
    "#Looping through a list\n",
    "\n",
    "cricketers = [\"Sachin\", \"Virat\", \"Rohit\"]\n",
    "\n",
    "for cricketers in cricketers:\n",
    "    print(cricketers)"
   ]
  },
  {
   "cell_type": "code",
   "execution_count": 70,
   "id": "4afa7b62-b462-41c0-819c-3d7521b9e039",
   "metadata": {},
   "outputs": [
    {
     "name": "stdout",
     "output_type": "stream",
     "text": [
      "1\n",
      "2\n",
      "3\n"
     ]
    }
   ],
   "source": [
    "#Example 7.1.2 -  while Loop\n",
    "\n",
    "#Printing numbers from 1 to 5\n",
    "i = 1\n",
    "while i <= 3:\n",
    "    print(i)\n",
    "    i += 1"
   ]
  },
  {
   "cell_type": "code",
   "execution_count": 71,
   "id": "720b6634-8c45-46bb-bba1-ea866d850bb2",
   "metadata": {},
   "outputs": [
    {
     "name": "stdout",
     "output_type": "stream",
     "text": [
      "(1, 1) (1, 2) (1, 3) (1, 4) \n",
      "(2, 1) (2, 2) (2, 3) (2, 4) \n",
      "(3, 1) (3, 2) (3, 3) (3, 4) \n",
      "(4, 1) (4, 2) (4, 3) (4, 4) \n"
     ]
    }
   ],
   "source": [
    "#Example 7.1.3 -  Nested Loop\n",
    "\n",
    "#Printing a pattern\n",
    "\n",
    "for i in range(1, 5):\n",
    "    for j in range(1, 5):\n",
    "        print(f\"({i}, {j})\", end=\" \")\n",
    "    print()"
   ]
  },
  {
   "cell_type": "code",
   "execution_count": 72,
   "id": "20d33ba7-4a56-4958-a163-a2306de7d8cf",
   "metadata": {},
   "outputs": [
    {
     "name": "stdout",
     "output_type": "stream",
     "text": [
      "1\n",
      "2\n",
      "4\n"
     ]
    }
   ],
   "source": [
    "#Example 7.1.4 -  Loop Control Statements\n",
    "\n",
    "#Using break and continue\n",
    "\n",
    "for i in range(1, 6):\n",
    "    if i == 3:\n",
    "        continue  # Skip the iteration when i is 3\n",
    "    if i == 5:\n",
    "        break  # Exit the loop when i is 5\n",
    "    print(i)\n",
    "else:\n",
    "    print(\"Loop completed\")"
   ]
  },
  {
   "cell_type": "code",
   "execution_count": null,
   "id": "fa875845-5e7e-4137-9ac0-071d489d10fd",
   "metadata": {},
   "outputs": [],
   "source": [
    "\n",
    "#=======================Assignment-01 Ended================================"
   ]
  }
 ],
 "metadata": {
  "kernelspec": {
   "display_name": "Python 3 (ipykernel)",
   "language": "python",
   "name": "python3"
  },
  "language_info": {
   "codemirror_mode": {
    "name": "ipython",
    "version": 3
   },
   "file_extension": ".py",
   "mimetype": "text/x-python",
   "name": "python",
   "nbconvert_exporter": "python",
   "pygments_lexer": "ipython3",
   "version": "3.10.8"
  }
 },
 "nbformat": 4,
 "nbformat_minor": 5
}
